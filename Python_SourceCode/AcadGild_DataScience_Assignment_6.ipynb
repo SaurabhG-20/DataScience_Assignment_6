{
 "cells": [
  {
   "cell_type": "markdown",
   "metadata": {},
   "source": [
    "# AcadGild_DataScience_Assignment_6"
   ]
  },
  {
   "cell_type": "markdown",
   "metadata": {},
   "source": [
    "Problem Statement 1:\n",
    "Write a function so that the columns of the output matrix are powers of the input\n",
    "vector.\n",
    "The order of the powers is determined by the increasing boolean argument. Specifically,\n",
    "when increasing is False, the i-th output column is the input vector raised element-wise\n",
    "to the power of N - i - 1."
   ]
  },
  {
   "cell_type": "code",
   "execution_count": 16,
   "metadata": {},
   "outputs": [
    {
     "name": "stdout",
     "output_type": "stream",
     "text": [
      "Input vector \n",
      " [ 5  7  9 11] \n",
      "\n",
      "Output Matrix , when boolean argument is True: \n",
      " [[    1     5    25   125   625]\n",
      " [    1     7    49   343  2401]\n",
      " [    1     9    81   729  6561]\n",
      " [    1    11   121  1331 14641]] \n",
      "\n",
      "Output Matrix , when boolean argument is False: \n",
      " [[  625   125    25     5     1]\n",
      " [ 2401   343    49     7     1]\n",
      " [ 6561   729    81     9     1]\n",
      " [14641  1331   121    11     1]]\n"
     ]
    }
   ],
   "source": [
    "#Solution\n",
    "\n",
    "# Import numpy module to access methodsn and fucntion for array/matrix\n",
    "import numpy as num_py\n",
    "\n",
    "# Function\n",
    "def matrix_Vandermonde(input_vector,n,bool_arg):\n",
    "    '''This function Will return Matrix in which \n",
    "    the columns of the output matrix are powers of the input vector.'''\n",
    "    \n",
    "    output_matrix=num_py.vander(x=input_vector,N=n,increasing=bool_arg)\n",
    "    return output_matrix\n",
    "\n",
    "# input paramater\n",
    "input_vector = num_py.arange(5,13,2)   # input vector ( 1-D array)\n",
    "n = 5                                  # no. of column in matrix \n",
    "bool_arg_T = True                      # boolean argument\n",
    "bool_arg_F = False                     # boolean argument\n",
    "\n",
    "# function execution\n",
    "out_matrix_True=matrix_Vandermonde(input_vector,n,bool_arg_T)\n",
    "\n",
    "out_matrix_False=matrix_Vandermonde(input_vector,n,bool_arg_F)\n",
    "\n",
    "#output\n",
    "print(\"Input vector \\n\",input_vector,\"\\n\")\n",
    "print(\"Output Matrix , when boolean argument is True: \\n\",out_matrix_True,\"\\n\")\n",
    "print(\"Output Matrix , when boolean argument is False: \\n\",out_matrix_False)"
   ]
  }
 ],
 "metadata": {
  "kernelspec": {
   "display_name": "Python 3",
   "language": "python",
   "name": "python3"
  },
  "language_info": {
   "codemirror_mode": {
    "name": "ipython",
    "version": 3
   },
   "file_extension": ".py",
   "mimetype": "text/x-python",
   "name": "python",
   "nbconvert_exporter": "python",
   "pygments_lexer": "ipython3",
   "version": "3.6.2"
  }
 },
 "nbformat": 4,
 "nbformat_minor": 2
}
